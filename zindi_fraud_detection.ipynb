{
  "nbformat": 4,
  "nbformat_minor": 0,
  "metadata": {
    "colab": {
      "name": "zindi_fraud_detection.ipynb",
      "version": "0.3.2",
      "provenance": [],
      "collapsed_sections": [],
      "include_colab_link": true
    },
    "kernelspec": {
      "name": "python3",
      "display_name": "Python 3"
    },
    "accelerator": "TPU"
  },
  "cells": [
    {
      "cell_type": "markdown",
      "metadata": {
        "id": "view-in-github",
        "colab_type": "text"
      },
      "source": [
        "<a href=\"https://colab.research.google.com/github/TanyaPaquet/mypackage/blob/master/zindi_fraud_detection.ipynb\" target=\"_parent\"><img src=\"https://colab.research.google.com/assets/colab-badge.svg\" alt=\"Open In Colab\"/></a>"
      ]
    },
    {
      "cell_type": "code",
      "metadata": {
        "id": "Xwx9rQWxbbJR",
        "colab_type": "code",
        "colab": {
          "base_uri": "https://localhost:8080/",
          "height": 125
        },
        "outputId": "038d82a3-5c3b-44a1-d371-e79478866f40"
      },
      "source": [
        "from google.colab import drive\n",
        "drive.mount('/content/gdrive')"
      ],
      "execution_count": 1,
      "outputs": [
        {
          "output_type": "stream",
          "text": [
            "Go to this URL in a browser: https://accounts.google.com/o/oauth2/auth?client_id=947318989803-6bn6qk8qdgf4n4g3pfee6491hc0brc4i.apps.googleusercontent.com&redirect_uri=urn%3Aietf%3Awg%3Aoauth%3A2.0%3Aoob&scope=email%20https%3A%2F%2Fwww.googleapis.com%2Fauth%2Fdocs.test%20https%3A%2F%2Fwww.googleapis.com%2Fauth%2Fdrive%20https%3A%2F%2Fwww.googleapis.com%2Fauth%2Fdrive.photos.readonly%20https%3A%2F%2Fwww.googleapis.com%2Fauth%2Fpeopleapi.readonly&response_type=code\n",
            "\n",
            "Enter your authorization code:\n",
            "··········\n",
            "Mounted at /content/gdrive\n"
          ],
          "name": "stdout"
        }
      ]
    },
    {
      "cell_type": "code",
      "metadata": {
        "id": "czPQBPvpcOF9",
        "colab_type": "code",
        "colab": {}
      },
      "source": [
        "#Import some necessary libraries\n",
        "import numpy as np\n",
        "import pandas as pd\n",
        "\n",
        "import matplotlib.pyplot as plt\n",
        "import seaborn as sns\n",
        "\n",
        "%matplotlib inline"
      ],
      "execution_count": 0,
      "outputs": []
    },
    {
      "cell_type": "code",
      "metadata": {
        "id": "cXdfzwSIcPhd",
        "colab_type": "code",
        "colab": {
          "base_uri": "https://localhost:8080/",
          "height": 798
        },
        "outputId": "9fefced9-f358-41a1-a42e-c132823100f1"
      },
      "source": [
        "#Load the provided training and test data into dataframes\n",
        "train = pd.read_csv('/content/gdrive/My Drive/Colab Notebooks/zindi/training.csv' )\n",
        "test = pd.read_csv('/content/gdrive/My Drive/Colab Notebooks/zindi/test.csv' )\n",
        "\n",
        "#Check the dataframe sizes, type assignments, and missing values\n",
        "print('Train info:')\n",
        "train.info()\n",
        "print('\\nTest info:')\n",
        "test.info()"
      ],
      "execution_count": 3,
      "outputs": [
        {
          "output_type": "stream",
          "text": [
            "Train info:\n",
            "<class 'pandas.core.frame.DataFrame'>\n",
            "RangeIndex: 95662 entries, 0 to 95661\n",
            "Data columns (total 16 columns):\n",
            "TransactionId           95662 non-null object\n",
            "BatchId                 95662 non-null object\n",
            "AccountId               95662 non-null object\n",
            "SubscriptionId          95662 non-null object\n",
            "CustomerId              95662 non-null object\n",
            "CurrencyCode            95662 non-null object\n",
            "CountryCode             95662 non-null int64\n",
            "ProviderId              95662 non-null object\n",
            "ProductId               95662 non-null object\n",
            "ProductCategory         95662 non-null object\n",
            "ChannelId               95662 non-null object\n",
            "Amount                  95662 non-null float64\n",
            "Value                   95662 non-null int64\n",
            "TransactionStartTime    95662 non-null object\n",
            "PricingStrategy         95662 non-null int64\n",
            "FraudResult             95662 non-null int64\n",
            "dtypes: float64(1), int64(4), object(11)\n",
            "memory usage: 11.7+ MB\n",
            "\n",
            "Test info:\n",
            "<class 'pandas.core.frame.DataFrame'>\n",
            "RangeIndex: 45019 entries, 0 to 45018\n",
            "Data columns (total 15 columns):\n",
            "TransactionId           45019 non-null object\n",
            "BatchId                 45019 non-null object\n",
            "AccountId               45019 non-null object\n",
            "SubscriptionId          45019 non-null object\n",
            "CustomerId              45019 non-null object\n",
            "CurrencyCode            45019 non-null object\n",
            "CountryCode             45019 non-null int64\n",
            "ProviderId              45019 non-null object\n",
            "ProductId               45019 non-null object\n",
            "ProductCategory         45019 non-null object\n",
            "ChannelId               45019 non-null object\n",
            "Amount                  45019 non-null float64\n",
            "Value                   45019 non-null int64\n",
            "TransactionStartTime    45019 non-null object\n",
            "PricingStrategy         45019 non-null int64\n",
            "dtypes: float64(1), int64(3), object(11)\n",
            "memory usage: 5.2+ MB\n"
          ],
          "name": "stdout"
        }
      ]
    },
    {
      "cell_type": "code",
      "metadata": {
        "id": "DDxB7IKWd_K0",
        "colab_type": "code",
        "colab": {
          "base_uri": "https://localhost:8080/",
          "height": 217
        },
        "outputId": "4e1ea820-3774-4516-f8dd-f01b1e818083"
      },
      "source": [
        "train.head()"
      ],
      "execution_count": 4,
      "outputs": [
        {
          "output_type": "execute_result",
          "data": {
            "text/html": [
              "<div>\n",
              "<style scoped>\n",
              "    .dataframe tbody tr th:only-of-type {\n",
              "        vertical-align: middle;\n",
              "    }\n",
              "\n",
              "    .dataframe tbody tr th {\n",
              "        vertical-align: top;\n",
              "    }\n",
              "\n",
              "    .dataframe thead th {\n",
              "        text-align: right;\n",
              "    }\n",
              "</style>\n",
              "<table border=\"1\" class=\"dataframe\">\n",
              "  <thead>\n",
              "    <tr style=\"text-align: right;\">\n",
              "      <th></th>\n",
              "      <th>TransactionId</th>\n",
              "      <th>BatchId</th>\n",
              "      <th>AccountId</th>\n",
              "      <th>SubscriptionId</th>\n",
              "      <th>CustomerId</th>\n",
              "      <th>CurrencyCode</th>\n",
              "      <th>CountryCode</th>\n",
              "      <th>ProviderId</th>\n",
              "      <th>ProductId</th>\n",
              "      <th>ProductCategory</th>\n",
              "      <th>ChannelId</th>\n",
              "      <th>Amount</th>\n",
              "      <th>Value</th>\n",
              "      <th>TransactionStartTime</th>\n",
              "      <th>PricingStrategy</th>\n",
              "      <th>FraudResult</th>\n",
              "    </tr>\n",
              "  </thead>\n",
              "  <tbody>\n",
              "    <tr>\n",
              "      <th>0</th>\n",
              "      <td>TransactionId_76871</td>\n",
              "      <td>BatchId_36123</td>\n",
              "      <td>AccountId_3957</td>\n",
              "      <td>SubscriptionId_887</td>\n",
              "      <td>CustomerId_4406</td>\n",
              "      <td>UGX</td>\n",
              "      <td>256</td>\n",
              "      <td>ProviderId_6</td>\n",
              "      <td>ProductId_10</td>\n",
              "      <td>airtime</td>\n",
              "      <td>ChannelId_3</td>\n",
              "      <td>1000.0</td>\n",
              "      <td>1000</td>\n",
              "      <td>2018-11-15T02:18:49Z</td>\n",
              "      <td>2</td>\n",
              "      <td>0</td>\n",
              "    </tr>\n",
              "    <tr>\n",
              "      <th>1</th>\n",
              "      <td>TransactionId_73770</td>\n",
              "      <td>BatchId_15642</td>\n",
              "      <td>AccountId_4841</td>\n",
              "      <td>SubscriptionId_3829</td>\n",
              "      <td>CustomerId_4406</td>\n",
              "      <td>UGX</td>\n",
              "      <td>256</td>\n",
              "      <td>ProviderId_4</td>\n",
              "      <td>ProductId_6</td>\n",
              "      <td>financial_services</td>\n",
              "      <td>ChannelId_2</td>\n",
              "      <td>-20.0</td>\n",
              "      <td>20</td>\n",
              "      <td>2018-11-15T02:19:08Z</td>\n",
              "      <td>2</td>\n",
              "      <td>0</td>\n",
              "    </tr>\n",
              "    <tr>\n",
              "      <th>2</th>\n",
              "      <td>TransactionId_26203</td>\n",
              "      <td>BatchId_53941</td>\n",
              "      <td>AccountId_4229</td>\n",
              "      <td>SubscriptionId_222</td>\n",
              "      <td>CustomerId_4683</td>\n",
              "      <td>UGX</td>\n",
              "      <td>256</td>\n",
              "      <td>ProviderId_6</td>\n",
              "      <td>ProductId_1</td>\n",
              "      <td>airtime</td>\n",
              "      <td>ChannelId_3</td>\n",
              "      <td>500.0</td>\n",
              "      <td>500</td>\n",
              "      <td>2018-11-15T02:44:21Z</td>\n",
              "      <td>2</td>\n",
              "      <td>0</td>\n",
              "    </tr>\n",
              "    <tr>\n",
              "      <th>3</th>\n",
              "      <td>TransactionId_380</td>\n",
              "      <td>BatchId_102363</td>\n",
              "      <td>AccountId_648</td>\n",
              "      <td>SubscriptionId_2185</td>\n",
              "      <td>CustomerId_988</td>\n",
              "      <td>UGX</td>\n",
              "      <td>256</td>\n",
              "      <td>ProviderId_1</td>\n",
              "      <td>ProductId_21</td>\n",
              "      <td>utility_bill</td>\n",
              "      <td>ChannelId_3</td>\n",
              "      <td>20000.0</td>\n",
              "      <td>21800</td>\n",
              "      <td>2018-11-15T03:32:55Z</td>\n",
              "      <td>2</td>\n",
              "      <td>0</td>\n",
              "    </tr>\n",
              "    <tr>\n",
              "      <th>4</th>\n",
              "      <td>TransactionId_28195</td>\n",
              "      <td>BatchId_38780</td>\n",
              "      <td>AccountId_4841</td>\n",
              "      <td>SubscriptionId_3829</td>\n",
              "      <td>CustomerId_988</td>\n",
              "      <td>UGX</td>\n",
              "      <td>256</td>\n",
              "      <td>ProviderId_4</td>\n",
              "      <td>ProductId_6</td>\n",
              "      <td>financial_services</td>\n",
              "      <td>ChannelId_2</td>\n",
              "      <td>-644.0</td>\n",
              "      <td>644</td>\n",
              "      <td>2018-11-15T03:34:21Z</td>\n",
              "      <td>2</td>\n",
              "      <td>0</td>\n",
              "    </tr>\n",
              "  </tbody>\n",
              "</table>\n",
              "</div>"
            ],
            "text/plain": [
              "         TransactionId         BatchId  ... PricingStrategy FraudResult\n",
              "0  TransactionId_76871   BatchId_36123  ...               2           0\n",
              "1  TransactionId_73770   BatchId_15642  ...               2           0\n",
              "2  TransactionId_26203   BatchId_53941  ...               2           0\n",
              "3    TransactionId_380  BatchId_102363  ...               2           0\n",
              "4  TransactionId_28195   BatchId_38780  ...               2           0\n",
              "\n",
              "[5 rows x 16 columns]"
            ]
          },
          "metadata": {
            "tags": []
          },
          "execution_count": 4
        }
      ]
    },
    {
      "cell_type": "code",
      "metadata": {
        "id": "7plea3MNefiF",
        "colab_type": "code",
        "colab": {
          "base_uri": "https://localhost:8080/",
          "height": 301
        },
        "outputId": "9dbeebf6-6a6e-423d-98e1-3fdb6193a8de"
      },
      "source": [
        "for col in train.columns:\n",
        "  print(col, len(train[col].unique()))"
      ],
      "execution_count": 5,
      "outputs": [
        {
          "output_type": "stream",
          "text": [
            "TransactionId 95662\n",
            "BatchId 94809\n",
            "AccountId 3633\n",
            "SubscriptionId 3627\n",
            "CustomerId 3742\n",
            "CurrencyCode 1\n",
            "CountryCode 1\n",
            "ProviderId 6\n",
            "ProductId 23\n",
            "ProductCategory 9\n",
            "ChannelId 4\n",
            "Amount 1676\n",
            "Value 1517\n",
            "TransactionStartTime 94556\n",
            "PricingStrategy 4\n",
            "FraudResult 2\n"
          ],
          "name": "stdout"
        }
      ]
    },
    {
      "cell_type": "code",
      "metadata": {
        "id": "PcW1C7QVfKVl",
        "colab_type": "code",
        "colab": {
          "base_uri": "https://localhost:8080/",
          "height": 52
        },
        "outputId": "3c2b4ca6-b62e-42e5-ecd1-d76740e3dd5b"
      },
      "source": [
        "num_fraud = len(train[train['FraudResult'] == 1])\n",
        "\n",
        "print('Number of fraudulent transactions: ', num_fraud)\n",
        "print('Fraction of fraudulent transactions: ', num_fraud/(len(train)))"
      ],
      "execution_count": 6,
      "outputs": [
        {
          "output_type": "stream",
          "text": [
            "Number of fraudulent transactions:  193\n",
            "Fraction of fraudulent transactions:  0.00201752001839811\n"
          ],
          "name": "stdout"
        }
      ]
    },
    {
      "cell_type": "code",
      "metadata": {
        "id": "bqSCdrK0lo_M",
        "colab_type": "code",
        "colab": {}
      },
      "source": [
        "combined = pd.concat([train.drop('FraudResult', axis=1), test])\n",
        "work_df = combined.drop(['TransactionId', 'BatchId', 'SubscriptionId', 'CustomerId', 'CurrencyCode', 'CountryCode'], axis=1)"
      ],
      "execution_count": 0,
      "outputs": []
    },
    {
      "cell_type": "code",
      "metadata": {
        "id": "xVCFOejtmboa",
        "colab_type": "code",
        "colab": {}
      },
      "source": [
        "work_df['TransactionStartTime'] = pd.to_datetime(work_df['TransactionStartTime'])\n",
        "work_df['PricingStrategy'] = work_df['PricingStrategy'].astype(object)"
      ],
      "execution_count": 0,
      "outputs": []
    },
    {
      "cell_type": "code",
      "metadata": {
        "id": "WYqgOYO3vvpd",
        "colab_type": "code",
        "colab": {}
      },
      "source": [
        "work_df['day'] = work_df['TransactionStartTime'].dt.day\n",
        "work_df['hour'] = work_df['TransactionStartTime'].dt.hour\n",
        "work_df['week_day'] = work_df['TransactionStartTime'].dt.dayofweek"
      ],
      "execution_count": 0,
      "outputs": []
    },
    {
      "cell_type": "code",
      "metadata": {
        "id": "Un33YeDmzeL1",
        "colab_type": "code",
        "colab": {
          "base_uri": "https://localhost:8080/",
          "height": 318
        },
        "outputId": "7bc2857b-cad3-46a6-9b3a-a30d2f47944e"
      },
      "source": [
        "work_df.info()"
      ],
      "execution_count": 10,
      "outputs": [
        {
          "output_type": "stream",
          "text": [
            "<class 'pandas.core.frame.DataFrame'>\n",
            "Int64Index: 140681 entries, 0 to 45018\n",
            "Data columns (total 12 columns):\n",
            "AccountId               140681 non-null object\n",
            "ProviderId              140681 non-null object\n",
            "ProductId               140681 non-null object\n",
            "ProductCategory         140681 non-null object\n",
            "ChannelId               140681 non-null object\n",
            "Amount                  140681 non-null float64\n",
            "Value                   140681 non-null int64\n",
            "TransactionStartTime    140681 non-null datetime64[ns, UTC]\n",
            "PricingStrategy         140681 non-null object\n",
            "day                     140681 non-null int64\n",
            "hour                    140681 non-null int64\n",
            "week_day                140681 non-null int64\n",
            "dtypes: datetime64[ns, UTC](1), float64(1), int64(4), object(6)\n",
            "memory usage: 14.0+ MB\n"
          ],
          "name": "stdout"
        }
      ]
    },
    {
      "cell_type": "code",
      "metadata": {
        "id": "oOS0yFrqy1KJ",
        "colab_type": "code",
        "colab": {}
      },
      "source": [
        "def tod(t):\n",
        "    if t >= 0 and t < 3:\n",
        "        return 'early_morning'\n",
        "    elif t >= 3 and t < 6:\n",
        "        return 'morning'\n",
        "    elif t >= 6 and t < 9:\n",
        "        return 'late_morning'\n",
        "    elif t >= 9 and t < 12:\n",
        "        return 'early_afternoon'\n",
        "    elif t >= 12 and t < 15:\n",
        "        return 'afternoon'\n",
        "    elif t >= 15 and t < 18:\n",
        "        return 'late_afternoon'\n",
        "    elif t >= 18 and t < 21:\n",
        "        return 'early_evening'\n",
        "    elif t >= 21:\n",
        "        return 'lave_evening'\n",
        "    return 'other'\n",
        "  \n",
        "\n",
        "work_df['time_day'] = work_df['hour'].apply(lambda row: tod(row))"
      ],
      "execution_count": 0,
      "outputs": []
    },
    {
      "cell_type": "code",
      "metadata": {
        "id": "5sZ9MgyrhFoF",
        "colab_type": "code",
        "colab": {
          "base_uri": "https://localhost:8080/",
          "height": 287
        },
        "outputId": "d8cd28ab-ff18-4474-eb04-942922d418b6"
      },
      "source": [
        "fraud = pd.concat([work_df.iloc[:len(train)], train['FraudResult']], axis=1)\n",
        "\n",
        "fraud = fraud[fraud['FraudResult'] == 1]\n",
        "fraud.describe()"
      ],
      "execution_count": 12,
      "outputs": [
        {
          "output_type": "execute_result",
          "data": {
            "text/html": [
              "<div>\n",
              "<style scoped>\n",
              "    .dataframe tbody tr th:only-of-type {\n",
              "        vertical-align: middle;\n",
              "    }\n",
              "\n",
              "    .dataframe tbody tr th {\n",
              "        vertical-align: top;\n",
              "    }\n",
              "\n",
              "    .dataframe thead th {\n",
              "        text-align: right;\n",
              "    }\n",
              "</style>\n",
              "<table border=\"1\" class=\"dataframe\">\n",
              "  <thead>\n",
              "    <tr style=\"text-align: right;\">\n",
              "      <th></th>\n",
              "      <th>Amount</th>\n",
              "      <th>Value</th>\n",
              "      <th>day</th>\n",
              "      <th>hour</th>\n",
              "      <th>week_day</th>\n",
              "      <th>FraudResult</th>\n",
              "    </tr>\n",
              "  </thead>\n",
              "  <tbody>\n",
              "    <tr>\n",
              "      <th>count</th>\n",
              "      <td>1.930000e+02</td>\n",
              "      <td>1.930000e+02</td>\n",
              "      <td>193.000000</td>\n",
              "      <td>193.000000</td>\n",
              "      <td>193.000000</td>\n",
              "      <td>193.0</td>\n",
              "    </tr>\n",
              "    <tr>\n",
              "      <th>mean</th>\n",
              "      <td>1.535272e+06</td>\n",
              "      <td>1.561820e+06</td>\n",
              "      <td>14.181347</td>\n",
              "      <td>13.341969</td>\n",
              "      <td>2.725389</td>\n",
              "      <td>1.0</td>\n",
              "    </tr>\n",
              "    <tr>\n",
              "      <th>std</th>\n",
              "      <td>2.100525e+06</td>\n",
              "      <td>2.081227e+06</td>\n",
              "      <td>9.276609</td>\n",
              "      <td>5.073127</td>\n",
              "      <td>1.860283</td>\n",
              "      <td>0.0</td>\n",
              "    </tr>\n",
              "    <tr>\n",
              "      <th>min</th>\n",
              "      <td>-9.000000e+05</td>\n",
              "      <td>5.000000e+02</td>\n",
              "      <td>1.000000</td>\n",
              "      <td>0.000000</td>\n",
              "      <td>0.000000</td>\n",
              "      <td>1.0</td>\n",
              "    </tr>\n",
              "    <tr>\n",
              "      <th>25%</th>\n",
              "      <td>5.000000e+05</td>\n",
              "      <td>5.000000e+05</td>\n",
              "      <td>6.000000</td>\n",
              "      <td>10.000000</td>\n",
              "      <td>1.000000</td>\n",
              "      <td>1.0</td>\n",
              "    </tr>\n",
              "    <tr>\n",
              "      <th>50%</th>\n",
              "      <td>6.000000e+05</td>\n",
              "      <td>6.500000e+05</td>\n",
              "      <td>12.000000</td>\n",
              "      <td>13.000000</td>\n",
              "      <td>3.000000</td>\n",
              "      <td>1.0</td>\n",
              "    </tr>\n",
              "    <tr>\n",
              "      <th>75%</th>\n",
              "      <td>2.000000e+06</td>\n",
              "      <td>2.000000e+06</td>\n",
              "      <td>22.000000</td>\n",
              "      <td>17.000000</td>\n",
              "      <td>4.000000</td>\n",
              "      <td>1.0</td>\n",
              "    </tr>\n",
              "    <tr>\n",
              "      <th>max</th>\n",
              "      <td>9.880000e+06</td>\n",
              "      <td>9.880000e+06</td>\n",
              "      <td>31.000000</td>\n",
              "      <td>22.000000</td>\n",
              "      <td>6.000000</td>\n",
              "      <td>1.0</td>\n",
              "    </tr>\n",
              "  </tbody>\n",
              "</table>\n",
              "</div>"
            ],
            "text/plain": [
              "             Amount         Value  ...    week_day  FraudResult\n",
              "count  1.930000e+02  1.930000e+02  ...  193.000000        193.0\n",
              "mean   1.535272e+06  1.561820e+06  ...    2.725389          1.0\n",
              "std    2.100525e+06  2.081227e+06  ...    1.860283          0.0\n",
              "min   -9.000000e+05  5.000000e+02  ...    0.000000          1.0\n",
              "25%    5.000000e+05  5.000000e+05  ...    1.000000          1.0\n",
              "50%    6.000000e+05  6.500000e+05  ...    3.000000          1.0\n",
              "75%    2.000000e+06  2.000000e+06  ...    4.000000          1.0\n",
              "max    9.880000e+06  9.880000e+06  ...    6.000000          1.0\n",
              "\n",
              "[8 rows x 6 columns]"
            ]
          },
          "metadata": {
            "tags": []
          },
          "execution_count": 12
        }
      ]
    },
    {
      "cell_type": "code",
      "metadata": {
        "id": "PCXIFuZNqQbk",
        "colab_type": "code",
        "colab": {}
      },
      "source": [
        "fraud['diff'] = np.abs(fraud['Amount']) - np.abs(fraud['Value'])"
      ],
      "execution_count": 0,
      "outputs": []
    },
    {
      "cell_type": "code",
      "metadata": {
        "id": "M-HFSZcnq60u",
        "colab_type": "code",
        "colab": {
          "base_uri": "https://localhost:8080/",
          "height": 283
        },
        "outputId": "7e69cae5-0281-469c-e1da-4b391b64bdea"
      },
      "source": [
        "for col in fraud.columns:\n",
        "  print(col, len(fraud[col].unique()))"
      ],
      "execution_count": 14,
      "outputs": [
        {
          "output_type": "stream",
          "text": [
            "AccountId 52\n",
            "ProviderId 5\n",
            "ProductId 9\n",
            "ProductCategory 4\n",
            "ChannelId 3\n",
            "Amount 61\n",
            "Value 61\n",
            "TransactionStartTime 193\n",
            "PricingStrategy 4\n",
            "day 30\n",
            "hour 20\n",
            "week_day 7\n",
            "time_day 8\n",
            "FraudResult 1\n",
            "diff 6\n"
          ],
          "name": "stdout"
        }
      ]
    },
    {
      "cell_type": "markdown",
      "metadata": {
        "id": "oGv0e-hn0dJU",
        "colab_type": "text"
      },
      "source": [
        "Thus: date and time will not offer much distinction"
      ]
    },
    {
      "cell_type": "code",
      "metadata": {
        "id": "6wswsWVXlTlg",
        "colab_type": "code",
        "colab": {
          "base_uri": "https://localhost:8080/",
          "height": 197
        },
        "outputId": "5529b6fa-bc40-40b9-8862-844b156cdd4d"
      },
      "source": [
        "work_df.head()"
      ],
      "execution_count": 15,
      "outputs": [
        {
          "output_type": "execute_result",
          "data": {
            "text/html": [
              "<div>\n",
              "<style scoped>\n",
              "    .dataframe tbody tr th:only-of-type {\n",
              "        vertical-align: middle;\n",
              "    }\n",
              "\n",
              "    .dataframe tbody tr th {\n",
              "        vertical-align: top;\n",
              "    }\n",
              "\n",
              "    .dataframe thead th {\n",
              "        text-align: right;\n",
              "    }\n",
              "</style>\n",
              "<table border=\"1\" class=\"dataframe\">\n",
              "  <thead>\n",
              "    <tr style=\"text-align: right;\">\n",
              "      <th></th>\n",
              "      <th>AccountId</th>\n",
              "      <th>ProviderId</th>\n",
              "      <th>ProductId</th>\n",
              "      <th>ProductCategory</th>\n",
              "      <th>ChannelId</th>\n",
              "      <th>Amount</th>\n",
              "      <th>Value</th>\n",
              "      <th>TransactionStartTime</th>\n",
              "      <th>PricingStrategy</th>\n",
              "      <th>day</th>\n",
              "      <th>hour</th>\n",
              "      <th>week_day</th>\n",
              "      <th>time_day</th>\n",
              "    </tr>\n",
              "  </thead>\n",
              "  <tbody>\n",
              "    <tr>\n",
              "      <th>0</th>\n",
              "      <td>AccountId_3957</td>\n",
              "      <td>ProviderId_6</td>\n",
              "      <td>ProductId_10</td>\n",
              "      <td>airtime</td>\n",
              "      <td>ChannelId_3</td>\n",
              "      <td>1000.0</td>\n",
              "      <td>1000</td>\n",
              "      <td>2018-11-15 02:18:49+00:00</td>\n",
              "      <td>2</td>\n",
              "      <td>15</td>\n",
              "      <td>2</td>\n",
              "      <td>3</td>\n",
              "      <td>early_morning</td>\n",
              "    </tr>\n",
              "    <tr>\n",
              "      <th>1</th>\n",
              "      <td>AccountId_4841</td>\n",
              "      <td>ProviderId_4</td>\n",
              "      <td>ProductId_6</td>\n",
              "      <td>financial_services</td>\n",
              "      <td>ChannelId_2</td>\n",
              "      <td>-20.0</td>\n",
              "      <td>20</td>\n",
              "      <td>2018-11-15 02:19:08+00:00</td>\n",
              "      <td>2</td>\n",
              "      <td>15</td>\n",
              "      <td>2</td>\n",
              "      <td>3</td>\n",
              "      <td>early_morning</td>\n",
              "    </tr>\n",
              "    <tr>\n",
              "      <th>2</th>\n",
              "      <td>AccountId_4229</td>\n",
              "      <td>ProviderId_6</td>\n",
              "      <td>ProductId_1</td>\n",
              "      <td>airtime</td>\n",
              "      <td>ChannelId_3</td>\n",
              "      <td>500.0</td>\n",
              "      <td>500</td>\n",
              "      <td>2018-11-15 02:44:21+00:00</td>\n",
              "      <td>2</td>\n",
              "      <td>15</td>\n",
              "      <td>2</td>\n",
              "      <td>3</td>\n",
              "      <td>early_morning</td>\n",
              "    </tr>\n",
              "    <tr>\n",
              "      <th>3</th>\n",
              "      <td>AccountId_648</td>\n",
              "      <td>ProviderId_1</td>\n",
              "      <td>ProductId_21</td>\n",
              "      <td>utility_bill</td>\n",
              "      <td>ChannelId_3</td>\n",
              "      <td>20000.0</td>\n",
              "      <td>21800</td>\n",
              "      <td>2018-11-15 03:32:55+00:00</td>\n",
              "      <td>2</td>\n",
              "      <td>15</td>\n",
              "      <td>3</td>\n",
              "      <td>3</td>\n",
              "      <td>morning</td>\n",
              "    </tr>\n",
              "    <tr>\n",
              "      <th>4</th>\n",
              "      <td>AccountId_4841</td>\n",
              "      <td>ProviderId_4</td>\n",
              "      <td>ProductId_6</td>\n",
              "      <td>financial_services</td>\n",
              "      <td>ChannelId_2</td>\n",
              "      <td>-644.0</td>\n",
              "      <td>644</td>\n",
              "      <td>2018-11-15 03:34:21+00:00</td>\n",
              "      <td>2</td>\n",
              "      <td>15</td>\n",
              "      <td>3</td>\n",
              "      <td>3</td>\n",
              "      <td>morning</td>\n",
              "    </tr>\n",
              "  </tbody>\n",
              "</table>\n",
              "</div>"
            ],
            "text/plain": [
              "        AccountId    ProviderId     ProductId  ... hour week_day       time_day\n",
              "0  AccountId_3957  ProviderId_6  ProductId_10  ...    2        3  early_morning\n",
              "1  AccountId_4841  ProviderId_4   ProductId_6  ...    2        3  early_morning\n",
              "2  AccountId_4229  ProviderId_6   ProductId_1  ...    2        3  early_morning\n",
              "3   AccountId_648  ProviderId_1  ProductId_21  ...    3        3        morning\n",
              "4  AccountId_4841  ProviderId_4   ProductId_6  ...    3        3        morning\n",
              "\n",
              "[5 rows x 13 columns]"
            ]
          },
          "metadata": {
            "tags": []
          },
          "execution_count": 15
        }
      ]
    },
    {
      "cell_type": "code",
      "metadata": {
        "id": "RJYVOkcWw3Uo",
        "colab_type": "code",
        "colab": {}
      },
      "source": [
        "from sklearn.model_selection import train_test_split\n",
        "from sklearn.preprocessing import MinMaxScaler\n",
        "\n",
        "from sklearn.metrics import f1_score, confusion_matrix, classification_report, roc_auc_score\n",
        "\n",
        "from sklearn.naive_bayes import MultinomialNB\n",
        "from sklearn.linear_model import LogisticRegression\n",
        "from sklearn.ensemble import RandomForestClassifier, GradientBoostingClassifier\n",
        "from sklearn.svm import SVC"
      ],
      "execution_count": 0,
      "outputs": []
    },
    {
      "cell_type": "code",
      "metadata": {
        "id": "jnfdO4pK1kcc",
        "colab_type": "code",
        "colab": {
          "base_uri": "https://localhost:8080/",
          "height": 34
        },
        "outputId": "34ea89d8-ab95-45f9-f264-fbbfa2a623b8"
      },
      "source": [
        "dummies = work_df[['ProviderId', 'ProductId', 'ProductCategory', 'ChannelId', 'Value', 'PricingStrategy']]\n",
        "dummies = pd.get_dummies(dummies, drop_first=True)\n",
        "\n",
        "# dummies = work_df[['AccountId', 'ProviderId', 'ProductId', 'ProductCategory', 'ChannelId', 'Value', 'PricingStrategy']]\n",
        "# sc = MinMaxScaler()\n",
        "# dummies_sc = sc.fit_transform(dummies)\n",
        "\n",
        "dummies.shape"
      ],
      "execution_count": 17,
      "outputs": [
        {
          "output_type": "execute_result",
          "data": {
            "text/plain": [
              "(140681, 48)"
            ]
          },
          "metadata": {
            "tags": []
          },
          "execution_count": 17
        }
      ]
    },
    {
      "cell_type": "code",
      "metadata": {
        "id": "1iCgdCrK4G-V",
        "colab_type": "code",
        "colab": {}
      },
      "source": [
        "train_dum = dummies.iloc[: len(train)]\n",
        "test_dum = dummies.iloc[len(train):]"
      ],
      "execution_count": 0,
      "outputs": []
    },
    {
      "cell_type": "code",
      "metadata": {
        "id": "9p0DzEj_2ZQ6",
        "colab_type": "code",
        "colab": {}
      },
      "source": [
        "#Define model building function\n",
        "def build_model(train_X, test_X, train_y, test_y, model):\n",
        "    \"\"\"Split data into training and test sets, fit the specified model, make predictions, and calculate the log loss and confusion matrix.\n",
        "    \n",
        "    Args:\n",
        "        X (array or DataFrame): independent variables\n",
        "        y (array or DataFrame): dependent variable\n",
        "        model (model): sklearn model and parameters\n",
        "\n",
        "    Returns:\n",
        "        train_pred (array): predictions from training data \n",
        "        test_pred (array): predictions from test data\n",
        "        train_loss (float): log loss on training data\n",
        "        test_loss (float): log loss on test data\n",
        "        test_matrix (array): confusion matrix on test data\n",
        "        \n",
        "    \"\"\"\n",
        "    \n",
        "    model.fit(train_X, train_y)\n",
        "\n",
        "    train_pred = model.predict(train_X)\n",
        "    test_pred = model.predict(test_X)\n",
        "    \n",
        "    train_proba = model.predict_proba(train_X)\n",
        "    test_proba = model.predict_proba(test_X)\n",
        "    \n",
        "    \n",
        "    return train_pred, test_pred, train_proba, test_proba"
      ],
      "execution_count": 0,
      "outputs": []
    },
    {
      "cell_type": "markdown",
      "metadata": {
        "id": "9tUbw2oFBgcM",
        "colab_type": "text"
      },
      "source": [
        "##  RF train_test_split on subset of 0.3"
      ]
    },
    {
      "cell_type": "code",
      "metadata": {
        "id": "EeI1w2pw6wOL",
        "colab_type": "code",
        "colab": {
          "base_uri": "https://localhost:8080/",
          "height": 34
        },
        "outputId": "5df8df56-b444-410c-b17b-8066ef39a970"
      },
      "source": [
        "train_fraud = pd.concat([train_dum, train['FraudResult']], axis=1)\n",
        "\n",
        "sub_train = pd.concat([train_fraud[train_fraud['FraudResult'] == 1].sample(frac=0.3, random_state=11), train_fraud[train_fraud['FraudResult'] == 0].sample(frac=0.3, random_state=11)])\n",
        "\n",
        "sub_train.shape"
      ],
      "execution_count": 359,
      "outputs": [
        {
          "output_type": "execute_result",
          "data": {
            "text/plain": [
              "(28699, 49)"
            ]
          },
          "metadata": {
            "tags": []
          },
          "execution_count": 359
        }
      ]
    },
    {
      "cell_type": "code",
      "metadata": {
        "id": "Or31eoRB50RC",
        "colab_type": "code",
        "colab": {
          "base_uri": "https://localhost:8080/",
          "height": 52
        },
        "outputId": "47fe115e-5da2-425f-9e51-d9cf09b53377"
      },
      "source": [
        "X_train, X_test, y_train, y_test = train_test_split(sub_train.drop('FraudResult', axis=1), sub_train['FraudResult'], random_state=11)\n",
        "\n",
        "print(X_train.shape)\n",
        "print(X_test.shape)"
      ],
      "execution_count": 360,
      "outputs": [
        {
          "output_type": "stream",
          "text": [
            "(21524, 48)\n",
            "(7175, 48)\n"
          ],
          "name": "stdout"
        }
      ]
    },
    {
      "cell_type": "code",
      "metadata": {
        "id": "3AD3o9-05wl5",
        "colab_type": "code",
        "colab": {}
      },
      "source": [
        "cm = RandomForestClassifier(n_estimators=50, max_depth=3, max_features='auto', bootstrap=True, n_jobs=-1, random_state=11)\n",
        "\n",
        "pred_train, pred_test, proba_train, proba_test = build_model(X_train, X_test, y_train, y_test, cm)\n"
      ],
      "execution_count": 0,
      "outputs": []
    },
    {
      "cell_type": "code",
      "metadata": {
        "id": "nTtTPgY13opL",
        "colab_type": "code",
        "colab": {
          "base_uri": "https://localhost:8080/",
          "height": 158
        },
        "outputId": "2b18b15e-624d-449a-f918-26eadcca06af"
      },
      "source": [
        "print('train f1: ', f1_score(y_train, pred_train))\n",
        "print('test f1: ', f1_score(y_test, pred_test))\n",
        "print('\\nConfusion matrix:')\n",
        "print(confusion_matrix(y_test, pred_test))"
      ],
      "execution_count": 362,
      "outputs": [
        {
          "output_type": "stream",
          "text": [
            "train f1:  0.0\n",
            "test f1:  0.0\n",
            "\n",
            "Confusion matrix:\n",
            "[[7159    0]\n",
            " [  16    0]]\n"
          ],
          "name": "stdout"
        },
        {
          "output_type": "stream",
          "text": [
            "/usr/local/lib/python3.6/dist-packages/sklearn/metrics/classification.py:1437: UndefinedMetricWarning: F-score is ill-defined and being set to 0.0 due to no predicted samples.\n",
            "  'precision', 'predicted', average, warn_for)\n"
          ],
          "name": "stderr"
        }
      ]
    },
    {
      "cell_type": "code",
      "metadata": {
        "id": "M4WPQJ4E_ZaP",
        "colab_type": "code",
        "colab": {
          "base_uri": "https://localhost:8080/",
          "height": 1000
        },
        "outputId": "5fefb768-57f7-461c-e238-6e3b69b8e330"
      },
      "source": [
        "frac = [0.005, 0.01, 0.05, 0.1, 0.15, 0.2, 0.25, 0.3, 0.35, 0.4, 0.45, 0.5]\n",
        "\n",
        "for f in frac:\n",
        "    y_train_th = np.where(proba_train[:,1] > f, 1, 0)\n",
        "    y_test_th = np.where(proba_test[:,1] > f, 1, 0)\n",
        "    print('\\nFraction: ', f)\n",
        "    print('train f1: ', f1_score(y_train, y_train_th))\n",
        "    print('test f1: ', f1_score(y_test, y_test_th))\n",
        "    print('Confusion matrix:')\n",
        "    print(confusion_matrix(y_test, y_test_th))"
      ],
      "execution_count": 363,
      "outputs": [
        {
          "output_type": "stream",
          "text": [
            "/usr/local/lib/python3.6/dist-packages/sklearn/metrics/classification.py:1437: UndefinedMetricWarning: F-score is ill-defined and being set to 0.0 due to no predicted samples.\n",
            "  'precision', 'predicted', average, warn_for)\n"
          ],
          "name": "stderr"
        },
        {
          "output_type": "stream",
          "text": [
            "\n",
            "Fraction:  0.005\n",
            "train f1:  0.07466666666666666\n",
            "test f1:  0.07462686567164178\n",
            "Confusion matrix:\n",
            "[[6788  371]\n",
            " [   1   15]]\n",
            "\n",
            "Fraction:  0.01\n",
            "train f1:  0.21761658031088082\n",
            "test f1:  0.23255813953488375\n",
            "Confusion matrix:\n",
            "[[7061   98]\n",
            " [   1   15]]\n",
            "\n",
            "Fraction:  0.05\n",
            "train f1:  0.8297872340425532\n",
            "test f1:  0.9032258064516129\n",
            "Confusion matrix:\n",
            "[[7158    1]\n",
            " [   2   14]]\n",
            "\n",
            "Fraction:  0.1\n",
            "train f1:  0.8297872340425532\n",
            "test f1:  0.9032258064516129\n",
            "Confusion matrix:\n",
            "[[7158    1]\n",
            " [   2   14]]\n",
            "\n",
            "Fraction:  0.15\n",
            "train f1:  0.8297872340425532\n",
            "test f1:  0.9032258064516129\n",
            "Confusion matrix:\n",
            "[[7158    1]\n",
            " [   2   14]]\n",
            "\n",
            "Fraction:  0.2\n",
            "train f1:  0.6756756756756757\n",
            "test f1:  0.64\n",
            "Confusion matrix:\n",
            "[[7158    1]\n",
            " [   8    8]]\n",
            "\n",
            "Fraction:  0.25\n",
            "train f1:  0.36363636363636365\n",
            "test f1:  0.2222222222222222\n",
            "Confusion matrix:\n",
            "[[7159    0]\n",
            " [  14    2]]\n",
            "\n",
            "Fraction:  0.3\n",
            "train f1:  0.046511627906976744\n",
            "test f1:  0.0\n",
            "Confusion matrix:\n",
            "[[7159    0]\n",
            " [  16    0]]\n",
            "\n",
            "Fraction:  0.35\n",
            "train f1:  0.0\n",
            "test f1:  0.0\n",
            "Confusion matrix:\n",
            "[[7159    0]\n",
            " [  16    0]]\n",
            "\n",
            "Fraction:  0.4\n",
            "train f1:  0.0\n",
            "test f1:  0.0\n",
            "Confusion matrix:\n",
            "[[7159    0]\n",
            " [  16    0]]\n",
            "\n",
            "Fraction:  0.45\n",
            "train f1:  0.0\n",
            "test f1:  0.0\n",
            "Confusion matrix:\n",
            "[[7159    0]\n",
            " [  16    0]]\n",
            "\n",
            "Fraction:  0.5\n",
            "train f1:  0.0\n",
            "test f1:  0.0\n",
            "Confusion matrix:\n",
            "[[7159    0]\n",
            " [  16    0]]\n"
          ],
          "name": "stdout"
        }
      ]
    },
    {
      "cell_type": "markdown",
      "metadata": {
        "id": "6nfgfpW_B6rk",
        "colab_type": "text"
      },
      "source": [
        "##  RF train_test_split on all "
      ]
    },
    {
      "cell_type": "code",
      "metadata": {
        "colab_type": "code",
        "outputId": "ad89b279-506b-4109-ea4c-ff54f896a689",
        "id": "Vtpndg47CMCR",
        "colab": {
          "base_uri": "https://localhost:8080/",
          "height": 34
        }
      },
      "source": [
        "train_fraud = pd.concat([train_dum, train['FraudResult']], axis=1)\n",
        "\n",
        "train_fraud.shape"
      ],
      "execution_count": 376,
      "outputs": [
        {
          "output_type": "execute_result",
          "data": {
            "text/plain": [
              "(95662, 49)"
            ]
          },
          "metadata": {
            "tags": []
          },
          "execution_count": 376
        }
      ]
    },
    {
      "cell_type": "code",
      "metadata": {
        "colab_type": "code",
        "outputId": "2f6d67fe-74b4-49a1-d6ed-4e9b712df32d",
        "id": "RecPox1FCMCZ",
        "colab": {
          "base_uri": "https://localhost:8080/",
          "height": 52
        }
      },
      "source": [
        "X_train, X_test, y_train, y_test = train_test_split(train_fraud.drop('FraudResult', axis=1), train_fraud['FraudResult'], random_state=11)\n",
        "\n",
        "print(X_train.shape)\n",
        "print(X_test.shape)"
      ],
      "execution_count": 377,
      "outputs": [
        {
          "output_type": "stream",
          "text": [
            "(71746, 48)\n",
            "(23916, 48)\n"
          ],
          "name": "stdout"
        }
      ]
    },
    {
      "cell_type": "code",
      "metadata": {
        "colab_type": "code",
        "id": "eU51_3jeCMCe",
        "colab": {}
      },
      "source": [
        "cm = RandomForestClassifier(n_estimators=50, max_depth=3, max_features='auto', bootstrap=True, n_jobs=-1, random_state=11)\n",
        "\n",
        "pred_train, pred_test, proba_train, proba_test = build_model(X_train, X_test, y_train, y_test, cm)\n"
      ],
      "execution_count": 0,
      "outputs": []
    },
    {
      "cell_type": "code",
      "metadata": {
        "colab_type": "code",
        "outputId": "e4f646e2-6038-4ef7-a937-a3065a2832a8",
        "id": "wqj1kSHVCMCg",
        "colab": {
          "base_uri": "https://localhost:8080/",
          "height": 158
        }
      },
      "source": [
        "print('train f1: ', f1_score(y_train, pred_train))\n",
        "print('test f1: ', f1_score(y_test, pred_test))\n",
        "print('\\nConfusion matrix:')\n",
        "print(confusion_matrix(y_test, pred_test))"
      ],
      "execution_count": 379,
      "outputs": [
        {
          "output_type": "stream",
          "text": [
            "train f1:  0.0\n",
            "test f1:  0.0\n",
            "\n",
            "Confusion matrix:\n",
            "[[23866     0]\n",
            " [   50     0]]\n"
          ],
          "name": "stdout"
        },
        {
          "output_type": "stream",
          "text": [
            "/usr/local/lib/python3.6/dist-packages/sklearn/metrics/classification.py:1437: UndefinedMetricWarning: F-score is ill-defined and being set to 0.0 due to no predicted samples.\n",
            "  'precision', 'predicted', average, warn_for)\n"
          ],
          "name": "stderr"
        }
      ]
    },
    {
      "cell_type": "code",
      "metadata": {
        "colab_type": "code",
        "outputId": "09d7d72d-8774-4bd9-c6a5-aea9c8327dd7",
        "id": "5I0TnbogCMCj",
        "colab": {
          "base_uri": "https://localhost:8080/",
          "height": 1000
        }
      },
      "source": [
        "frac = [0.005, 0.01, 0.05, 0.1, 0.15, 0.2, 0.25, 0.3, 0.35, 0.4, 0.45, 0.5]\n",
        "\n",
        "for f in frac:\n",
        "    y_train_th = np.where(proba_train[:,1] > f, 1, 0)\n",
        "    y_test_th = np.where(proba_test[:,1] > f, 1, 0)\n",
        "    print('\\nFraction: ', f)\n",
        "    print('train f1: ', f1_score(y_train, y_train_th))\n",
        "    print('test f1: ', f1_score(y_test, y_test_th))\n",
        "    print('Confusion matrix:')\n",
        "    print(confusion_matrix(y_test, y_test_th))"
      ],
      "execution_count": 380,
      "outputs": [
        {
          "output_type": "stream",
          "text": [
            "\n",
            "Fraction:  0.005\n",
            "train f1:  0.030017152658662095\n",
            "test f1:  0.03096774193548387\n",
            "Confusion matrix:\n",
            "[[20864  3002]\n",
            " [    2    48]]\n",
            "\n",
            "Fraction:  0.01\n",
            "train f1:  0.22012578616352202\n",
            "test f1:  0.21967963386727687\n",
            "Confusion matrix:\n",
            "[[23527   339]\n",
            " [    2    48]]\n",
            "\n",
            "Fraction:  0.05\n",
            "train f1:  0.7962382445141066\n",
            "test f1:  0.7796610169491526\n",
            "Confusion matrix:\n",
            "[[23844    22]\n",
            " [    4    46]]\n",
            "\n",
            "Fraction:  0.1\n",
            "train f1:  0.7949526813880126\n",
            "test f1:  0.8288288288288288\n",
            "Confusion matrix:\n",
            "[[23851    15]\n",
            " [    4    46]]\n",
            "\n",
            "Fraction:  0.15\n",
            "train f1:  0.7999999999999999\n",
            "test f1:  0.851851851851852\n",
            "Confusion matrix:\n",
            "[[23854    12]\n",
            " [    4    46]]\n",
            "\n",
            "Fraction:  0.2\n",
            "train f1:  0.7349823321554771\n",
            "test f1:  0.7878787878787878\n",
            "Confusion matrix:\n",
            "[[23856    10]\n",
            " [   11    39]]\n",
            "\n",
            "Fraction:  0.25\n",
            "train f1:  0.3176470588235294\n",
            "test f1:  0.3050847457627119\n",
            "Confusion matrix:\n",
            "[[23866     0]\n",
            " [   41     9]]\n",
            "\n",
            "Fraction:  0.3\n",
            "train f1:  0.027586206896551724\n",
            "test f1:  0.0392156862745098\n",
            "Confusion matrix:\n",
            "[[23866     0]\n",
            " [   49     1]]\n",
            "\n",
            "Fraction:  0.35\n",
            "train f1:  0.013888888888888888\n",
            "test f1:  0.0392156862745098\n",
            "Confusion matrix:\n",
            "[[23866     0]\n",
            " [   49     1]]\n",
            "\n",
            "Fraction:  0.4\n",
            "train f1:  0.0\n",
            "test f1:  0.0\n",
            "Confusion matrix:\n",
            "[[23866     0]\n",
            " [   50     0]]\n",
            "\n",
            "Fraction:  0.45\n",
            "train f1:  0.0\n",
            "test f1:  0.0\n",
            "Confusion matrix:\n",
            "[[23866     0]\n",
            " [   50     0]]\n",
            "\n",
            "Fraction:  0.5\n",
            "train f1:  0.0\n",
            "test f1:  0.0\n",
            "Confusion matrix:\n",
            "[[23866     0]\n",
            " [   50     0]]\n"
          ],
          "name": "stdout"
        },
        {
          "output_type": "stream",
          "text": [
            "/usr/local/lib/python3.6/dist-packages/sklearn/metrics/classification.py:1437: UndefinedMetricWarning: F-score is ill-defined and being set to 0.0 due to no predicted samples.\n",
            "  'precision', 'predicted', average, warn_for)\n"
          ],
          "name": "stderr"
        }
      ]
    },
    {
      "cell_type": "markdown",
      "metadata": {
        "id": "NkQ-5gcCHegg",
        "colab_type": "text"
      },
      "source": [
        "##  RF using all test data\n"
      ]
    },
    {
      "cell_type": "code",
      "metadata": {
        "id": "NQp0opeFHtiz",
        "colab_type": "code",
        "colab": {}
      },
      "source": [
        "cm = RandomForestClassifier(n_estimators=50, max_depth=3, max_features='auto', bootstrap=True, n_jobs=-1, random_state=11)\n",
        "\n",
        "cm.fit(train_dum, train['FraudResult'])\n",
        "\n",
        "pred_train = cm.predict(train_dum)\n",
        "pred_test = cm.predict(test_dum)\n",
        "    \n",
        "proba_train = cm.predict_proba(train_dum)\n",
        "proba_test = cm.predict_proba(test_dum)"
      ],
      "execution_count": 0,
      "outputs": []
    },
    {
      "cell_type": "code",
      "metadata": {
        "id": "uwkQYqJ5H1y-",
        "colab_type": "code",
        "colab": {
          "base_uri": "https://localhost:8080/",
          "height": 692
        },
        "outputId": "fe9ab798-d725-4f4b-eae4-89d0814ac141"
      },
      "source": [
        "frac = [0.005, 0.01, 0.05, 0.1, 0.15, 0.2, 0.25, 0.3, 0.35, 0.4, 0.45, 0.5]\n",
        "\n",
        "for f in frac:\n",
        "    y_train_th = np.where(proba_train[:,1] > f, 1, 0)\n",
        "    print('\\nFraction: ', f)\n",
        "    print('train f1: ', f1_score(train['FraudResult'], y_train_th))"
      ],
      "execution_count": 382,
      "outputs": [
        {
          "output_type": "stream",
          "text": [
            "\n",
            "Fraction:  0.005\n",
            "train f1:  0.030939586386581987\n",
            "\n",
            "Fraction:  0.01\n",
            "train f1:  0.22248520710059172\n",
            "\n",
            "Fraction:  0.05\n",
            "train f1:  0.8113207547169811\n",
            "\n",
            "Fraction:  0.1\n",
            "train f1:  0.8113207547169811\n",
            "\n",
            "Fraction:  0.15\n",
            "train f1:  0.8113207547169811\n",
            "\n",
            "Fraction:  0.2\n",
            "train f1:  0.8105515587529976\n",
            "\n",
            "Fraction:  0.25\n",
            "train f1:  0.4030418250950569\n",
            "\n",
            "Fraction:  0.3\n",
            "train f1:  0.030612244897959183\n",
            "\n",
            "Fraction:  0.35\n",
            "train f1:  0.0\n",
            "\n",
            "Fraction:  0.4\n",
            "train f1:  0.0\n",
            "\n",
            "Fraction:  0.45\n",
            "train f1:  0.0\n",
            "\n",
            "Fraction:  0.5\n",
            "train f1:  0.0\n"
          ],
          "name": "stdout"
        },
        {
          "output_type": "stream",
          "text": [
            "/usr/local/lib/python3.6/dist-packages/sklearn/metrics/classification.py:1437: UndefinedMetricWarning: F-score is ill-defined and being set to 0.0 due to no predicted samples.\n",
            "  'precision', 'predicted', average, warn_for)\n"
          ],
          "name": "stderr"
        }
      ]
    },
    {
      "cell_type": "code",
      "metadata": {
        "id": "T2O29OIzHxqK",
        "colab_type": "code",
        "colab": {
          "base_uri": "https://localhost:8080/",
          "height": 34
        },
        "outputId": "8da11764-883e-4640-d09d-f5ead9eba59d"
      },
      "source": [
        "y_thresh = np.where(proba_test[:,1] > 0.15, 1, 0)\n",
        "y_thresh"
      ],
      "execution_count": 387,
      "outputs": [
        {
          "output_type": "execute_result",
          "data": {
            "text/plain": [
              "array([0, 0, 0, ..., 0, 0, 0])"
            ]
          },
          "metadata": {
            "tags": []
          },
          "execution_count": 387
        }
      ]
    },
    {
      "cell_type": "code",
      "metadata": {
        "id": "Vh3s5dWqJKok",
        "colab_type": "code",
        "colab": {}
      },
      "source": [
        "results = test[['TransactionId']]"
      ],
      "execution_count": 0,
      "outputs": []
    },
    {
      "cell_type": "code",
      "metadata": {
        "id": "pMOsf7GGJTEE",
        "colab_type": "code",
        "colab": {
          "base_uri": "https://localhost:8080/",
          "height": 304
        },
        "outputId": "e2d8c89f-b838-4eb8-bcda-3cc13b986f68"
      },
      "source": [
        "results['FraudResult'] = y_thresh\n",
        "\n",
        "results.head()"
      ],
      "execution_count": 389,
      "outputs": [
        {
          "output_type": "stream",
          "text": [
            "/usr/local/lib/python3.6/dist-packages/ipykernel_launcher.py:1: SettingWithCopyWarning: \n",
            "A value is trying to be set on a copy of a slice from a DataFrame.\n",
            "Try using .loc[row_indexer,col_indexer] = value instead\n",
            "\n",
            "See the caveats in the documentation: http://pandas.pydata.org/pandas-docs/stable/indexing.html#indexing-view-versus-copy\n",
            "  \"\"\"Entry point for launching an IPython kernel.\n"
          ],
          "name": "stderr"
        },
        {
          "output_type": "execute_result",
          "data": {
            "text/html": [
              "<div>\n",
              "<style scoped>\n",
              "    .dataframe tbody tr th:only-of-type {\n",
              "        vertical-align: middle;\n",
              "    }\n",
              "\n",
              "    .dataframe tbody tr th {\n",
              "        vertical-align: top;\n",
              "    }\n",
              "\n",
              "    .dataframe thead th {\n",
              "        text-align: right;\n",
              "    }\n",
              "</style>\n",
              "<table border=\"1\" class=\"dataframe\">\n",
              "  <thead>\n",
              "    <tr style=\"text-align: right;\">\n",
              "      <th></th>\n",
              "      <th>TransactionId</th>\n",
              "      <th>FraudResult</th>\n",
              "    </tr>\n",
              "  </thead>\n",
              "  <tbody>\n",
              "    <tr>\n",
              "      <th>0</th>\n",
              "      <td>TransactionId_50600</td>\n",
              "      <td>0</td>\n",
              "    </tr>\n",
              "    <tr>\n",
              "      <th>1</th>\n",
              "      <td>TransactionId_95109</td>\n",
              "      <td>0</td>\n",
              "    </tr>\n",
              "    <tr>\n",
              "      <th>2</th>\n",
              "      <td>TransactionId_47357</td>\n",
              "      <td>0</td>\n",
              "    </tr>\n",
              "    <tr>\n",
              "      <th>3</th>\n",
              "      <td>TransactionId_28185</td>\n",
              "      <td>0</td>\n",
              "    </tr>\n",
              "    <tr>\n",
              "      <th>4</th>\n",
              "      <td>TransactionId_22140</td>\n",
              "      <td>0</td>\n",
              "    </tr>\n",
              "  </tbody>\n",
              "</table>\n",
              "</div>"
            ],
            "text/plain": [
              "         TransactionId  FraudResult\n",
              "0  TransactionId_50600            0\n",
              "1  TransactionId_95109            0\n",
              "2  TransactionId_47357            0\n",
              "3  TransactionId_28185            0\n",
              "4  TransactionId_22140            0"
            ]
          },
          "metadata": {
            "tags": []
          },
          "execution_count": 389
        }
      ]
    },
    {
      "cell_type": "code",
      "metadata": {
        "id": "Rhp6s4KgJcjl",
        "colab_type": "code",
        "colab": {}
      },
      "source": [
        "# results.to_csv('/content/gdrive/My Drive/Colab Notebooks/zindi/RF_50_3_auto_0-15.csv', index=False)"
      ],
      "execution_count": 0,
      "outputs": []
    },
    {
      "cell_type": "code",
      "metadata": {
        "id": "b7yksYoWK1hk",
        "colab_type": "code",
        "colab": {}
      },
      "source": [
        ""
      ],
      "execution_count": 0,
      "outputs": []
    },
    {
      "cell_type": "markdown",
      "metadata": {
        "id": "MJuwVRFbMoKh",
        "colab_type": "text"
      },
      "source": [
        "## GB train_test_split on all "
      ]
    },
    {
      "cell_type": "code",
      "metadata": {
        "colab_type": "code",
        "outputId": "ace0b2c6-a5c8-401e-defb-0a77dd7fd2ed",
        "id": "5eD8M-dTMm7E",
        "colab": {
          "base_uri": "https://localhost:8080/",
          "height": 34
        }
      },
      "source": [
        "train_fraud = pd.concat([train_dum, train['FraudResult']], axis=1)\n",
        "\n",
        "train_fraud.shape"
      ],
      "execution_count": 326,
      "outputs": [
        {
          "output_type": "execute_result",
          "data": {
            "text/plain": [
              "(95662, 49)"
            ]
          },
          "metadata": {
            "tags": []
          },
          "execution_count": 326
        }
      ]
    },
    {
      "cell_type": "code",
      "metadata": {
        "colab_type": "code",
        "outputId": "3b41ecb8-87aa-4d9d-cb00-a45547214a37",
        "id": "Z4ojUlh9Mm7U",
        "colab": {
          "base_uri": "https://localhost:8080/",
          "height": 52
        }
      },
      "source": [
        "X_train, X_test, y_train, y_test = train_test_split(train_fraud.drop('FraudResult', axis=1), train_fraud['FraudResult'], random_state=11)\n",
        "\n",
        "print(X_train.shape)\n",
        "print(X_test.shape)"
      ],
      "execution_count": 327,
      "outputs": [
        {
          "output_type": "stream",
          "text": [
            "(71746, 48)\n",
            "(23916, 48)\n"
          ],
          "name": "stdout"
        }
      ]
    },
    {
      "cell_type": "code",
      "metadata": {
        "colab_type": "code",
        "id": "eFfP4Cu4Mm7Y",
        "colab": {}
      },
      "source": [
        "cm = GradientBoostingClassifier(loss='exponential', n_estimators=50, max_depth=3, random_state=11, max_features=None)\n",
        "\n",
        "pred_train, pred_test, proba_train, proba_test = build_model(X_train, X_test, y_train, y_test, cm)\n"
      ],
      "execution_count": 0,
      "outputs": []
    },
    {
      "cell_type": "code",
      "metadata": {
        "colab_type": "code",
        "outputId": "01ca289c-6c4c-4622-ecff-a4435fef0ffb",
        "id": "beajzMiHMm7a",
        "colab": {
          "base_uri": "https://localhost:8080/",
          "height": 123
        }
      },
      "source": [
        "print('train f1: ', f1_score(y_train, pred_train))\n",
        "print('test f1: ', f1_score(y_test, pred_test))\n",
        "print('\\nConfusion matrix:')\n",
        "print(confusion_matrix(y_test, pred_test))"
      ],
      "execution_count": 335,
      "outputs": [
        {
          "output_type": "stream",
          "text": [
            "train f1:  0.8705882352941178\n",
            "test f1:  0.8817204301075269\n",
            "\n",
            "Confusion matrix:\n",
            "[[23864     2]\n",
            " [    9    41]]\n"
          ],
          "name": "stdout"
        }
      ]
    },
    {
      "cell_type": "code",
      "metadata": {
        "colab_type": "code",
        "outputId": "92cff527-b159-48fe-d667-94be01af4330",
        "id": "P-XTzuZLMm7e",
        "colab": {
          "base_uri": "https://localhost:8080/",
          "height": 1000
        }
      },
      "source": [
        "frac = [0.005, 0.01, 0.05, 0.1, 0.15, 0.2, 0.25, 0.3, 0.35, 0.4, 0.45, 0.5]\n",
        "\n",
        "for f in frac:\n",
        "    y_train_th = np.where(proba_train[:,1] > f, 1, 0)\n",
        "    y_test_th = np.where(proba_test[:,1] > f, 1, 0)\n",
        "    print('\\nFraction: ', f)\n",
        "    print('train f1: ', f1_score(y_train, y_train_th))\n",
        "    print('test f1: ', f1_score(y_test, y_test_th))\n",
        "    print('Confusion matrix:')\n",
        "    print(confusion_matrix(y_test, y_test_th))"
      ],
      "execution_count": 336,
      "outputs": [
        {
          "output_type": "stream",
          "text": [
            "\n",
            "Fraction:  0.005\n",
            "train f1:  0.5371428571428571\n",
            "test f1:  0.5444444444444444\n",
            "Confusion matrix:\n",
            "[[23785    81]\n",
            " [    1    49]]\n",
            "\n",
            "Fraction:  0.01\n",
            "train f1:  0.5743380855397149\n",
            "test f1:  0.5664739884393063\n",
            "Confusion matrix:\n",
            "[[23792    74]\n",
            " [    1    49]]\n",
            "\n",
            "Fraction:  0.05\n",
            "train f1:  0.6731234866828089\n",
            "test f1:  0.6712328767123288\n",
            "Confusion matrix:\n",
            "[[23819    47]\n",
            " [    1    49]]\n",
            "\n",
            "Fraction:  0.1\n",
            "train f1:  0.7061855670103094\n",
            "test f1:  0.7164179104477612\n",
            "Confusion matrix:\n",
            "[[23830    36]\n",
            " [    2    48]]\n",
            "\n",
            "Fraction:  0.15\n",
            "train f1:  0.8167202572347266\n",
            "test f1:  0.851851851851852\n",
            "Confusion matrix:\n",
            "[[23854    12]\n",
            " [    4    46]]\n",
            "\n",
            "Fraction:  0.2\n",
            "train f1:  0.8723404255319149\n",
            "test f1:  0.8846153846153846\n",
            "Confusion matrix:\n",
            "[[23858     8]\n",
            " [    4    46]]\n",
            "\n",
            "Fraction:  0.25\n",
            "train f1:  0.8723404255319149\n",
            "test f1:  0.8932038834951457\n",
            "Confusion matrix:\n",
            "[[23859     7]\n",
            " [    4    46]]\n",
            "\n",
            "Fraction:  0.3\n",
            "train f1:  0.8723404255319149\n",
            "test f1:  0.8932038834951457\n",
            "Confusion matrix:\n",
            "[[23859     7]\n",
            " [    4    46]]\n",
            "\n",
            "Fraction:  0.35\n",
            "train f1:  0.8723404255319149\n",
            "test f1:  0.8932038834951457\n",
            "Confusion matrix:\n",
            "[[23859     7]\n",
            " [    4    46]]\n",
            "\n",
            "Fraction:  0.4\n",
            "train f1:  0.8872727272727272\n",
            "test f1:  0.9090909090909091\n",
            "Confusion matrix:\n",
            "[[23862     4]\n",
            " [    5    45]]\n",
            "\n",
            "Fraction:  0.45\n",
            "train f1:  0.888030888030888\n",
            "test f1:  0.9166666666666666\n",
            "Confusion matrix:\n",
            "[[23864     2]\n",
            " [    6    44]]\n",
            "\n",
            "Fraction:  0.5\n",
            "train f1:  0.8705882352941178\n",
            "test f1:  0.8817204301075269\n",
            "Confusion matrix:\n",
            "[[23864     2]\n",
            " [    9    41]]\n"
          ],
          "name": "stdout"
        }
      ]
    },
    {
      "cell_type": "markdown",
      "metadata": {
        "id": "TxRgrdprM4-I",
        "colab_type": "text"
      },
      "source": [
        "##  GB using all test data\n"
      ]
    },
    {
      "cell_type": "code",
      "metadata": {
        "colab_type": "code",
        "id": "LoAmudxbSzIP",
        "colab": {}
      },
      "source": [
        "cm = GradientBoostingClassifier(loss='exponential', n_estimators=50, max_depth=3, random_state=11, max_features=None)\n",
        "\n",
        "cm.fit(train_dum, train['FraudResult'])\n",
        "\n",
        "pred_train = cm.predict(train_dum)\n",
        "pred_test = cm.predict(test_dum)\n",
        "    \n",
        "proba_train = cm.predict_proba(train_dum)\n",
        "proba_test = cm.predict_proba(test_dum)"
      ],
      "execution_count": 0,
      "outputs": []
    },
    {
      "cell_type": "code",
      "metadata": {
        "colab_type": "code",
        "outputId": "11958e3f-1833-4da6-a22e-7993359b009c",
        "id": "ZSXU3_2kSzIU",
        "colab": {
          "base_uri": "https://localhost:8080/",
          "height": 656
        }
      },
      "source": [
        "frac = [0.005, 0.01, 0.05, 0.1, 0.15, 0.2, 0.25, 0.3, 0.35, 0.4, 0.45, 0.5]\n",
        "\n",
        "for f in frac:\n",
        "    y_train_th = np.where(proba_train[:,1] > f, 1, 0)\n",
        "    print('\\nFraction: ', f)\n",
        "    print('train f1: ', f1_score(train['FraudResult'], y_train_th))"
      ],
      "execution_count": 338,
      "outputs": [
        {
          "output_type": "stream",
          "text": [
            "\n",
            "Fraction:  0.005\n",
            "train f1:  0.5654761904761905\n",
            "\n",
            "Fraction:  0.01\n",
            "train f1:  0.6308724832214765\n",
            "\n",
            "Fraction:  0.05\n",
            "train f1:  0.7269155206286837\n",
            "\n",
            "Fraction:  0.1\n",
            "train f1:  0.8169014084507042\n",
            "\n",
            "Fraction:  0.15\n",
            "train f1:  0.8297362110311751\n",
            "\n",
            "Fraction:  0.2\n",
            "train f1:  0.8802083333333334\n",
            "\n",
            "Fraction:  0.25\n",
            "train f1:  0.8802083333333334\n",
            "\n",
            "Fraction:  0.3\n",
            "train f1:  0.8802083333333334\n",
            "\n",
            "Fraction:  0.35\n",
            "train f1:  0.877284595300261\n",
            "\n",
            "Fraction:  0.4\n",
            "train f1:  0.8924731182795699\n",
            "\n",
            "Fraction:  0.45\n",
            "train f1:  0.8983050847457626\n",
            "\n",
            "Fraction:  0.5\n",
            "train f1:  0.8977272727272727\n"
          ],
          "name": "stdout"
        }
      ]
    },
    {
      "cell_type": "code",
      "metadata": {
        "colab_type": "code",
        "outputId": "1758c537-4736-43de-fadd-103049cd3f1c",
        "id": "LIMZBSwfSzIf",
        "colab": {
          "base_uri": "https://localhost:8080/",
          "height": 34
        }
      },
      "source": [
        "y_thresh = np.where(proba_test[:,1] > 0.2, 1, 0)\n",
        "y_thresh"
      ],
      "execution_count": 339,
      "outputs": [
        {
          "output_type": "execute_result",
          "data": {
            "text/plain": [
              "array([0, 0, 0, ..., 0, 0, 0])"
            ]
          },
          "metadata": {
            "tags": []
          },
          "execution_count": 339
        }
      ]
    },
    {
      "cell_type": "code",
      "metadata": {
        "colab_type": "code",
        "id": "dlr177ifSzIl",
        "colab": {}
      },
      "source": [
        "results = test[['TransactionId']]"
      ],
      "execution_count": 0,
      "outputs": []
    },
    {
      "cell_type": "code",
      "metadata": {
        "colab_type": "code",
        "outputId": "9792a402-81da-4725-e6dc-5e4adb6b6fb1",
        "id": "WaCjHPD4SzIn",
        "colab": {
          "base_uri": "https://localhost:8080/",
          "height": 304
        }
      },
      "source": [
        "results['FraudResult'] = y_thresh\n",
        "\n",
        "results.head()"
      ],
      "execution_count": 341,
      "outputs": [
        {
          "output_type": "stream",
          "text": [
            "/usr/local/lib/python3.6/dist-packages/ipykernel_launcher.py:1: SettingWithCopyWarning: \n",
            "A value is trying to be set on a copy of a slice from a DataFrame.\n",
            "Try using .loc[row_indexer,col_indexer] = value instead\n",
            "\n",
            "See the caveats in the documentation: http://pandas.pydata.org/pandas-docs/stable/indexing.html#indexing-view-versus-copy\n",
            "  \"\"\"Entry point for launching an IPython kernel.\n"
          ],
          "name": "stderr"
        },
        {
          "output_type": "execute_result",
          "data": {
            "text/html": [
              "<div>\n",
              "<style scoped>\n",
              "    .dataframe tbody tr th:only-of-type {\n",
              "        vertical-align: middle;\n",
              "    }\n",
              "\n",
              "    .dataframe tbody tr th {\n",
              "        vertical-align: top;\n",
              "    }\n",
              "\n",
              "    .dataframe thead th {\n",
              "        text-align: right;\n",
              "    }\n",
              "</style>\n",
              "<table border=\"1\" class=\"dataframe\">\n",
              "  <thead>\n",
              "    <tr style=\"text-align: right;\">\n",
              "      <th></th>\n",
              "      <th>TransactionId</th>\n",
              "      <th>FraudResult</th>\n",
              "    </tr>\n",
              "  </thead>\n",
              "  <tbody>\n",
              "    <tr>\n",
              "      <th>0</th>\n",
              "      <td>TransactionId_50600</td>\n",
              "      <td>0</td>\n",
              "    </tr>\n",
              "    <tr>\n",
              "      <th>1</th>\n",
              "      <td>TransactionId_95109</td>\n",
              "      <td>0</td>\n",
              "    </tr>\n",
              "    <tr>\n",
              "      <th>2</th>\n",
              "      <td>TransactionId_47357</td>\n",
              "      <td>0</td>\n",
              "    </tr>\n",
              "    <tr>\n",
              "      <th>3</th>\n",
              "      <td>TransactionId_28185</td>\n",
              "      <td>0</td>\n",
              "    </tr>\n",
              "    <tr>\n",
              "      <th>4</th>\n",
              "      <td>TransactionId_22140</td>\n",
              "      <td>0</td>\n",
              "    </tr>\n",
              "  </tbody>\n",
              "</table>\n",
              "</div>"
            ],
            "text/plain": [
              "         TransactionId  FraudResult\n",
              "0  TransactionId_50600            0\n",
              "1  TransactionId_95109            0\n",
              "2  TransactionId_47357            0\n",
              "3  TransactionId_28185            0\n",
              "4  TransactionId_22140            0"
            ]
          },
          "metadata": {
            "tags": []
          },
          "execution_count": 341
        }
      ]
    },
    {
      "cell_type": "code",
      "metadata": {
        "colab_type": "code",
        "id": "wc0x1V94SzIq",
        "colab": {}
      },
      "source": [
        "# results.to_csv('/content/gdrive/My Drive/Colab Notebooks/zindi/GB_exp_50_3_none_0-2.csv', index=False)"
      ],
      "execution_count": 0,
      "outputs": []
    },
    {
      "cell_type": "code",
      "metadata": {
        "id": "PKX7qZ9GTpSF",
        "colab_type": "code",
        "colab": {}
      },
      "source": [
        ""
      ],
      "execution_count": 0,
      "outputs": []
    }
  ]
}